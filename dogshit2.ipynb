{
 "cells": [
  {
   "cell_type": "code",
   "execution_count": null,
   "id": "668beb36",
   "metadata": {},
   "outputs": [],
   "source": [
    "print(\"Hellow 2\")"
   ]
  }
 ],
 "metadata": {
  "kernelspec": {
   "display_name": "env",
   "language": "python",
   "name": "python3"
  },
  "language_info": {
   "name": "python",
   "version": "3.13.1"
  }
 },
 "nbformat": 4,
 "nbformat_minor": 5
}
